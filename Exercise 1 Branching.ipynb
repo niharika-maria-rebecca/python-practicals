{
 "cells": [
  {
   "cell_type": "code",
   "execution_count": 1,
   "id": "c4fe92fe-ef64-4d6c-80e9-dbc1221fcb26",
   "metadata": {},
   "outputs": [
    {
     "name": "stdin",
     "output_type": "stream",
     "text": [
      "Enter num1: 2\n",
      "Enter num2: 3\n"
     ]
    },
    {
     "name": "stdout",
     "output_type": "stream",
     "text": [
      "A is smaller than B\n"
     ]
    }
   ],
   "source": [
    "#Comparision of Two numbers\n",
    "a=int(input(\"Enter num1:\"))\n",
    "b=int(input(\"Enter num2:\"))\n",
    "if a>b:\n",
    "    print(\"A is greater than B\")\n",
    "elif a<b:\n",
    "    print(\"A is smaller than B\")\n",
    "else:\n",
    "    print(\"A is equal to B\")"
   ]
  },
  {
   "cell_type": "code",
   "execution_count": 2,
   "id": "91b2e247-baf3-4e72-8726-99799d2c6890",
   "metadata": {},
   "outputs": [
    {
     "name": "stdin",
     "output_type": "stream",
     "text": [
      "Enter a number: 2\n"
     ]
    },
    {
     "name": "stdout",
     "output_type": "stream",
     "text": [
      "The given number is even\n"
     ]
    }
   ],
   "source": [
    "#Check Whether a number is odd or even\n",
    "n=int(input(\"Enter a number:\"))\n",
    "if n%2==0:\n",
    "    print(\"The given number is even\")\n",
    "else:\n",
    "    print(\"The given number is odd\")"
   ]
  },
  {
   "cell_type": "code",
   "execution_count": 3,
   "id": "3f61c524-f5e0-440f-bc34-0ffd34c4b2b0",
   "metadata": {},
   "outputs": [
    {
     "name": "stdin",
     "output_type": "stream",
     "text": [
      "Enter the year: 2024\n"
     ]
    },
    {
     "name": "stdout",
     "output_type": "stream",
     "text": [
      "It's a leap year\n"
     ]
    }
   ],
   "source": [
    "#Leap-year checker using if-else condition\n",
    "year=int(input(\"Enter the year:\"))\n",
    "if(year%4==0 and year%100!=0)or(year%400==0):\n",
    "    print(\"It's a leap year\")\n",
    "else:\n",
    "    print(\"It's not a leap year\")"
   ]
  },
  {
   "cell_type": "code",
   "execution_count": null,
   "id": "71634b27-0719-4ea0-8990-3d8da04404bf",
   "metadata": {},
   "outputs": [],
   "source": [
    "#To calculate student grade details\n",
    "rollno=int(input(\"Enter the rollno:\"))\n",
    "name=input(\"Enter the name:\")\n",
    "m1=int(input(\"Enter m1:\"))\n",
    "m2=int(input(\"Enter m2:\"))\n",
    "m3=int(input(\"Enter m3:\"))\n",
    "m4=int(input(\"Enter m4:\"))\n",
    "m5=int(input(\"Enter m5:\"))\n",
    "total=m1+m2+m3+m4+m5\n",
    "print(\"Total marks\",total)\n",
    "avg=total/5\n",
    "print(\"Average marks:\",avg)\n",
    "if avg>=90 and avg<100:\n",
    "    print(\"A+ grade\")\n",
    "elif avg>=80 and avg<90:\n",
    "    print(\"A grade\")\n",
    "elif avg>=70 and avg<80:\n",
    "    print(\"B grade\")\n",
    "elif avg>=60 and avg<70:\n",
    "    print(\"C grade\")\n",
    "elif avg>=50 and avg<60:\n",
    "    print(\"D grade\")\n",
    "elif avg>=40 and avg<50:\n",
    "    print(\"E grade\")\n",
    "elif avg>=35 and avg<40:\n",
    "    print(\"Just pass\")\n",
    "else:\n",
    "    print(\"Fail\")"
   ]
  }
 ],
 "metadata": {
  "kernelspec": {
   "display_name": "Python 3 (ipykernel)",
   "language": "python",
   "name": "python3"
  },
  "language_info": {
   "codemirror_mode": {
    "name": "ipython",
    "version": 3
   },
   "file_extension": ".py",
   "mimetype": "text/x-python",
   "name": "python",
   "nbconvert_exporter": "python",
   "pygments_lexer": "ipython3",
   "version": "3.13.5"
  }
 },
 "nbformat": 4,
 "nbformat_minor": 5
}
